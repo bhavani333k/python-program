{
  "nbformat": 4,
  "nbformat_minor": 0,
  "metadata": {
    "colab": {
      "provenance": []
    },
    "kernelspec": {
      "name": "python3",
      "display_name": "Python 3"
    },
    "language_info": {
      "name": "python"
    }
  },
  "cells": [
    {
      "cell_type": "code",
      "execution_count": 1,
      "metadata": {
        "colab": {
          "base_uri": "https://localhost:8080/"
        },
        "id": "v2EQOa28WKLr",
        "outputId": "3388ed38-a185-4047-e820-32846a2b03c8"
      },
      "outputs": [
        {
          "output_type": "stream",
          "name": "stdout",
          "text": [
            "True\n",
            "True\n"
          ]
        }
      ],
      "source": [
        "text=\"hello python\"\n",
        "print(\"python\" in text)\n",
        "print(\"java\"not in text)"
      ]
    },
    {
      "cell_type": "code",
      "source": [
        "number=[10,20,30,40,50,6=]"
      ],
      "metadata": {
        "id": "vOAxGiQwWy-4"
      },
      "execution_count": null,
      "outputs": []
    }
  ]
}