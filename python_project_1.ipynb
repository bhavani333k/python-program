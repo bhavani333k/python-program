{
  "nbformat": 4,
  "nbformat_minor": 0,
  "metadata": {
    "colab": {
      "provenance": []
    },
    "kernelspec": {
      "name": "python3",
      "display_name": "Python 3"
    },
    "language_info": {
      "name": "python"
    }
  },
  "cells": [
    {
      "cell_type": "markdown",
      "source": [
        "simple calculator"
      ],
      "metadata": {
        "id": "9kS4KKdzSUNO"
      }
    },
    {
      "cell_type": "code",
      "source": [
        "def add(x,y):\n",
        "  return x+y\n",
        "\n",
        "def subtract(x,y):\n",
        "    return x-y\n",
        "\n",
        "def multiply(x,y):\n",
        "      return x*y\n",
        "\n",
        "def divide(x,y):\n",
        "        if y !=0:\n",
        "            return x / y\n",
        "        else:\n",
        "            return \"Error! division by zero.\"\n",
        "\n",
        "def calculator():\n",
        "    print(\"Simple Calculator\")\n",
        "    print(\"choose operation:\")\n",
        "    print(\"1. Add\")\n",
        "    print(\"2. Subtract\")\n",
        "    print(\"3. Multiply\")\n",
        "    print(\"4. Divide\")\n",
        "\n",
        "    while True:\n",
        "        choice = input(\"Enter choice (1/2/3/4):\")\n",
        "\n",
        "        if choice in ['1', '2', '3', '4']:\n",
        "            num1 = float(input(\"enter first number:\"))\n",
        "            num2 = float(input(\"enter second number:\"))\n",
        "\n",
        "            if choice == '1':\n",
        "                print(f\"the result is: {add(num1, num2)}\")\n",
        "            elif choice == '2':\n",
        "                print(f\"the result is: {subtract(num1, num2)}\")\n",
        "            elif choice == '3':\n",
        "                print(f\"the result is: {multiply(num1, num2)}\")\n",
        "            elif choice == '4':\n",
        "                print(f\"the result is: {divide(num1, num2)}\")\n",
        "\n",
        "            next_calculation = input(\"Do you want to perform another calculation? (yes/no):\")\n",
        "            if next_calculation.lower() != 'yes':\n",
        "                break\n",
        "        else:\n",
        "            print(\"Invalid input\")\n",
        "\n",
        "# run the calculator\n",
        "calculator()\n",
        "\n",
        "\n",
        "\n",
        "\n",
        "\n",
        ""
      ],
      "metadata": {
        "colab": {
          "base_uri": "https://localhost:8080/"
        },
        "id": "jNK2HiLjSjvd",
        "outputId": "788dc13a-26a5-4e11-e9d9-91e04a32d145"
      },
      "execution_count": null,
      "outputs": [
        {
          "output_type": "stream",
          "name": "stdout",
          "text": [
            "Simple Calculator\n",
            "choose operation:\n",
            "1. Add\n",
            "2. Subtract\n",
            "3. Multiply\n",
            "4. Divide\n"
          ]
        }
      ]
    },
    {
      "cell_type": "code",
      "source": [],
      "metadata": {
        "id": "cUz8u9Q5YJTb"
      },
      "execution_count": null,
      "outputs": []
    }
  ]
}